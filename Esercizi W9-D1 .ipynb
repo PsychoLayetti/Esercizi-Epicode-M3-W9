{
 "cells": [
  {
   "cell_type": "code",
   "execution_count": null,
   "id": "c94570ee-d18e-44de-bddf-a1919113c137",
   "metadata": {},
   "outputs": [],
   "source": [
    "#Es.2\n",
    "studenti = 25\n",
    "print (studenti)\n",
    "nuovi_arrivi = 3\n",
    "totale_studenti = studenti + nuovi_arrivi\n",
    "print (totale_studenti)"
   ]
  },
  {
   "cell_type": "code",
   "execution_count": null,
   "id": "4022434d-a8ee-42cb-b2ad-2af614c53d9b",
   "metadata": {},
   "outputs": [],
   "source": [
    "#Es.3\n",
    "scuola = \"Epicode\"\n",
    "print (scuola)"
   ]
  },
  {
   "cell_type": "code",
   "execution_count": null,
   "id": "d2d57938-34a7-4f5a-b000-da685161a999",
   "metadata": {},
   "outputs": [],
   "source": [
    "#Es.4\n",
    "x = 10\n",
    "y = x + 2\n",
    "z = y * 3\n",
    "print (z)"
   ]
  },
  {
   "cell_type": "code",
   "execution_count": null,
   "id": "a6687b2c-5422-4860-9922-0c00e632c246",
   "metadata": {},
   "outputs": [],
   "source": [
    "#Es.5\n",
    "str1 = \"Windows\"\n",
    "str2 = \"Excel\"\n",
    "str3 = \"Powerpoint\"\n",
    "str4 = \"Word\"\n",
    "print (len(str1))\n",
    "print (len(str2))\n",
    "print (len(str3))\n",
    "print (len(str4))"
   ]
  },
  {
   "cell_type": "code",
   "execution_count": null,
   "id": "d290c3a9-451d-441e-9dae-d22e0a98d8e1",
   "metadata": {},
   "outputs": [],
   "source": [
    "#Es.6\n",
    "anno = 366\n",
    "secondi_giorno = 24*60*60\n",
    "secondi_anno_bisestile = anno*secondi_giorno\n",
    "print (secondi_anno_bisestile)"
   ]
  },
  {
   "cell_type": "code",
   "execution_count": null,
   "id": "737e38a1-3ad1-450a-b082-d1e4060b313c",
   "metadata": {},
   "outputs": [],
   "source": [
    "#Es.7\n",
    "my_string = \"I am studying Python\"\n",
    "print (my_string.upper())\n",
    "print (my_string.lower())\n",
    "print (my_string.strip())\n",
    "frase = my_string.split()\n",
    "print (frase)"
   ]
  },
  {
   "cell_type": "code",
   "execution_count": null,
   "id": "52df3b03-7855-4349-b223-563d26fe6491",
   "metadata": {},
   "outputs": [],
   "source": [
    "studenti = [\"Alex\", \"Bob\", \"Cindy\", \"Dan\", \"Emma\", \"Faith\", \"Grace\", \"Henry\"]\n",
    "corsi = [\"Cybersecurity\", \"Data_Analyst\", \"Backend\", \"Frontend\", \"Data_Analyst\", \"Backend\"]\n",
    "corsi.append(\"Frontend\")\n",
    "corsi.append(\"Cybersecurity\")\n",
    "print (studenti)\n",
    "print (corsi)"
   ]
  },
  {
   "cell_type": "code",
   "execution_count": null,
   "id": "0b85ba89-18e6-48d4-8f82-a9215a567f5d",
   "metadata": {},
   "outputs": [],
   "source": []
  }
 ],
 "metadata": {
  "kernelspec": {
   "display_name": "Python [conda env:base] *",
   "language": "python",
   "name": "conda-base-py"
  },
  "language_info": {
   "codemirror_mode": {
    "name": "ipython",
    "version": 3
   },
   "file_extension": ".py",
   "mimetype": "text/x-python",
   "name": "python",
   "nbconvert_exporter": "python",
   "pygments_lexer": "ipython3",
   "version": "3.12.7"
  }
 },
 "nbformat": 4,
 "nbformat_minor": 5
}
